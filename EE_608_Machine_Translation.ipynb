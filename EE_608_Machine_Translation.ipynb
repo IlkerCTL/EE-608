{
  "cells": [
    {
      "cell_type": "markdown",
      "metadata": {
        "id": "view-in-github",
        "colab_type": "text"
      },
      "source": [
        "<a href=\"https://colab.research.google.com/github/IlkerCTL/EE-608/blob/main/EE_608_Machine_Translation.ipynb\" target=\"_parent\"><img src=\"https://colab.research.google.com/assets/colab-badge.svg\" alt=\"Open In Colab\"/></a>"
      ]
    },
    {
      "cell_type": "markdown",
      "metadata": {
        "collapsed": true,
        "id": "kVShirMrXbYC"
      },
      "source": [
        "### Machine Translation with Keras\n",
        "\n",
        "\n",
        "In this notebook, I will build a deep neural network that functions as part of an end-to-end machine translation pipeline. Completed pipeline will accept English text as input and return the French translation.\n",
        "\n",
        "- **Preprocessing** - I will convert text to sequence of integers.\n",
        "- **Modeling** I will create a model which accepts a sequence of integers as input and returns a probability distribution over possible translations. \n",
        "- **Prediction** I will run the model on English text."
      ]
    },
    {
      "cell_type": "code",
      "execution_count": null,
      "metadata": {
        "id": "Pdp1cQ4VXbYI"
      },
      "outputs": [],
      "source": [
        "import collections\n",
        "import numpy as np\n",
        "import os\n",
        "\n",
        "from keras.preprocessing.text import Tokenizer\n",
        "from keras_preprocessing.sequence import pad_sequences\n",
        "from keras.models import Model\n",
        "from keras.layers import GRU, Input, Dense, TimeDistributed, Activation, RepeatVector, Bidirectional\n",
        "from tensorflow.keras.layers import Embedding\n",
        "from keras.optimizers import Adam\n",
        "from keras.losses import sparse_categorical_crossentropy\n",
        "from keras.utils import plot_model\n",
        "from keras.models import Sequential\n",
        "import keras"
      ]
    },
    {
      "cell_type": "code",
      "source": [
        "from google.colab import drive\n",
        "drive.mount('/content/drive')"
      ],
      "metadata": {
        "colab": {
          "base_uri": "https://localhost:8080/"
        },
        "id": "xKbKRmlpXiuf",
        "outputId": "4c971c32-0317-4eaa-9de1-1763b42aaaa3"
      },
      "execution_count": null,
      "outputs": [
        {
          "output_type": "stream",
          "name": "stdout",
          "text": [
            "Mounted at /content/drive\n"
          ]
        }
      ]
    },
    {
      "cell_type": "markdown",
      "metadata": {
        "id": "GPgM9OUyXbYJ"
      },
      "source": [
        "### Verify access to the GPU\n"
      ]
    },
    {
      "cell_type": "code",
      "source": [
        "from tensorflow.python.client import device_lib\n",
        "print(device_lib.list_local_devices())"
      ],
      "metadata": {
        "colab": {
          "base_uri": "https://localhost:8080/"
        },
        "id": "8MLrpcKh0Ryz",
        "outputId": "e27a925b-3a48-412b-af35-7a1a27dadfaf"
      },
      "execution_count": null,
      "outputs": [
        {
          "output_type": "stream",
          "name": "stdout",
          "text": [
            "[name: \"/device:CPU:0\"\n",
            "device_type: \"CPU\"\n",
            "memory_limit: 268435456\n",
            "locality {\n",
            "}\n",
            "incarnation: 10109642003847019057\n",
            "xla_global_id: -1\n",
            ", name: \"/device:GPU:0\"\n",
            "device_type: \"GPU\"\n",
            "memory_limit: 14415560704\n",
            "locality {\n",
            "  bus_id: 1\n",
            "  links {\n",
            "  }\n",
            "}\n",
            "incarnation: 4378881467406213812\n",
            "physical_device_desc: \"device: 0, name: Tesla T4, pci bus id: 0000:00:04.0, compute capability: 7.5\"\n",
            "xla_global_id: 416903419\n",
            "]\n"
          ]
        }
      ]
    },
    {
      "cell_type": "markdown",
      "metadata": {
        "id": "lOGxZnP1XbYM"
      },
      "source": [
        "## Dataset\n",
        "The most common datasets used for machine translation are from [WMT](http://www.statmt.org/).  However, that will take a long time to train a neural network on.  I'll be using a dataset for this project that contains a small vocabulary. I'll be able to train my model in a reasonable time with this dataset.\n"
      ]
    },
    {
      "cell_type": "code",
      "source": [
        "# create a folder in the drive named pytorch_seg\n",
        "import os\n",
        "try:\n",
        "    os.mkdir(\"/content/drive/MyDrive/Machine_Translation/\")\n",
        "except FileExistsError:\n",
        "    print('directory already exists')\n",
        "\n",
        "#download the dataset\n",
        "!wget --no-check-certificate https://raw.githubusercontent.com/IlkerCTL/EE-608/main/small_vocab_en -P \"/content/drive/MyDrive/Machine_Translation\"\n",
        "!wget --no-check-certificate https://raw.githubusercontent.com/IlkerCTL/EE-608/main/small_vocab_fr -P \"/content/drive/MyDrive/Machine_Translation\"\n"
      ],
      "metadata": {
        "colab": {
          "base_uri": "https://localhost:8080/"
        },
        "id": "tBx-Xlr-eGrc",
        "outputId": "ccf70fe8-2252-44f3-fe08-02ccc66c8b01"
      },
      "execution_count": null,
      "outputs": [
        {
          "output_type": "stream",
          "name": "stdout",
          "text": [
            "directory already exists\n",
            "--2022-12-16 00:05:58--  https://raw.githubusercontent.com/IlkerCTL/ee608/main/small_vocab_en\n",
            "Resolving raw.githubusercontent.com (raw.githubusercontent.com)... 185.199.109.133, 185.199.108.133, 185.199.111.133, ...\n",
            "Connecting to raw.githubusercontent.com (raw.githubusercontent.com)|185.199.109.133|:443... connected.\n",
            "HTTP request sent, awaiting response... 200 OK\n",
            "Length: 9085267 (8.7M) [text/plain]\n",
            "Saving to: ‘/content/drive/MyDrive/Machine_Translation/small_vocab_en.1’\n",
            "\n",
            "small_vocab_en.1    100%[===================>]   8.66M  51.0MB/s    in 0.2s    \n",
            "\n",
            "2022-12-16 00:05:58 (51.0 MB/s) - ‘/content/drive/MyDrive/Machine_Translation/small_vocab_en.1’ saved [9085267/9085267]\n",
            "\n",
            "--2022-12-16 00:05:58--  https://raw.githubusercontent.com/IlkerCTL/ee608/main/small_vocab_fr\n",
            "Resolving raw.githubusercontent.com (raw.githubusercontent.com)... 185.199.108.133, 185.199.109.133, 185.199.110.133, ...\n",
            "Connecting to raw.githubusercontent.com (raw.githubusercontent.com)|185.199.108.133|:443... connected.\n",
            "HTTP request sent, awaiting response... 200 OK\n",
            "Length: 10135742 (9.7M) [text/plain]\n",
            "Saving to: ‘/content/drive/MyDrive/Machine_Translation/small_vocab_fr.1’\n",
            "\n",
            "small_vocab_fr.1    100%[===================>]   9.67M  62.6MB/s    in 0.2s    \n",
            "\n",
            "2022-12-16 00:05:58 (62.6 MB/s) - ‘/content/drive/MyDrive/Machine_Translation/small_vocab_fr.1’ saved [10135742/10135742]\n",
            "\n"
          ]
        }
      ]
    },
    {
      "cell_type": "code",
      "source": [
        "# define a function to load the dataset\n",
        "def load_data(path):\n",
        "    \"\"\"\n",
        "    Load dataset\n",
        "    \"\"\"\n",
        "    input_file = os.path.join(path)\n",
        "    with open(input_file, \"r\") as f:\n",
        "        data = f.read()\n",
        "\n",
        "    return data.split('\\n')"
      ],
      "metadata": {
        "id": "oVTc52eYYp14"
      },
      "execution_count": null,
      "outputs": []
    },
    {
      "cell_type": "code",
      "execution_count": null,
      "metadata": {
        "colab": {
          "base_uri": "https://localhost:8080/"
        },
        "id": "Ut77HLDHXbYN",
        "outputId": "65fe593a-ea99-405b-ef88-1679e8345383"
      },
      "outputs": [
        {
          "output_type": "stream",
          "name": "stdout",
          "text": [
            "Dataset Loaded\n"
          ]
        }
      ],
      "source": [
        "# Load English data\n",
        "english_sentences = load_data('/content/drive/MyDrive/Machine_Translation/small_vocab_en')\n",
        "# Load French data\n",
        "french_sentences = load_data('/content/drive/MyDrive/Machine_Translation/small_vocab_fr')\n",
        "\n",
        "print('Dataset Loaded')"
      ]
    },
    {
      "cell_type": "code",
      "execution_count": null,
      "metadata": {
        "colab": {
          "base_uri": "https://localhost:8080/"
        },
        "id": "cqJBkACHXbYQ",
        "outputId": "6231aba6-6c7f-4bbe-83c6-cfb5b2753fec"
      },
      "outputs": [
        {
          "output_type": "stream",
          "name": "stdout",
          "text": [
            "small_vocab_en Line 1:  new jersey is sometimes quiet during autumn , and it is snowy in april .\n",
            "small_vocab_fr Line 1:  new jersey est parfois calme pendant l' automne , et il est neigeux en avril .\n",
            "small_vocab_en Line 2:  the united states is usually chilly during july , and it is usually freezing in november .\n",
            "small_vocab_fr Line 2:  les états-unis est généralement froid en juillet , et il gèle habituellement en novembre .\n"
          ]
        }
      ],
      "source": [
        "\"\"\"Each line in small_vocab_en contains an English sentence with the respective translation-\n",
        "in each line of small_vocab_fr. View the first two lines from each file.\"\"\"\n",
        "for sample_i in range(2):\n",
        "    print('small_vocab_en Line {}:  {}'.format(sample_i + 1, english_sentences[sample_i]))\n",
        "    print('small_vocab_fr Line {}:  {}'.format(sample_i + 1, french_sentences[sample_i]))"
      ]
    },
    {
      "cell_type": "markdown",
      "metadata": {
        "id": "bZeou4UEXbYR"
      },
      "source": [
        "Sentences have been preprocessed already. The puncuations have been delimited using spaces. All the text have been converted to lowercase.  This should save some time, but the text requires more preprocessing.\n",
        "### Vocabulary\n",
        "The complexity of the problem is determined by the complexity of the vocabulary.  A more complex vocabulary is a more complex problem.  "
      ]
    },
    {
      "cell_type": "code",
      "execution_count": null,
      "metadata": {
        "colab": {
          "base_uri": "https://localhost:8080/"
        },
        "id": "NllQ6gi9XbYS",
        "outputId": "29d7a40f-cafb-462d-9f21-6b0b126280ef"
      },
      "outputs": [
        {
          "output_type": "stream",
          "name": "stdout",
          "text": [
            "1823250 English words.\n",
            "227 unique English words.\n",
            "10 Most common words in the English dataset:\n",
            "\"is\" \",\" \".\" \"in\" \"it\" \"during\" \"the\" \"but\" \"and\" \"sometimes\"\n",
            "\n",
            "1961295 French words.\n",
            "355 unique French words.\n",
            "10 Most common words in the French dataset:\n",
            "\"est\" \".\" \",\" \"en\" \"il\" \"les\" \"mais\" \"et\" \"la\" \"parfois\"\n"
          ]
        }
      ],
      "source": [
        "english_words_counter = collections.Counter([word for sentence in english_sentences for word in sentence.split()])\n",
        "french_words_counter = collections.Counter([word for sentence in french_sentences for word in sentence.split()])\n",
        "\n",
        "print('{} English words.'.format(len([word for sentence in english_sentences for word in sentence.split()])))\n",
        "print('{} unique English words.'.format(len(english_words_counter)))\n",
        "print('10 Most common words in the English dataset:')\n",
        "print('\"' + '\" \"'.join(list(zip(*english_words_counter.most_common(10)))[0]) + '\"')\n",
        "print()\n",
        "print('{} French words.'.format(len([word for sentence in french_sentences for word in sentence.split()])))\n",
        "print('{} unique French words.'.format(len(french_words_counter)))\n",
        "print('10 Most common words in the French dataset:')\n",
        "print('\"' + '\" \"'.join(list(zip(*french_words_counter.most_common(10)))[0]) + '\"')"
      ]
    },
    {
      "cell_type": "markdown",
      "metadata": {
        "id": "EAcNSxFfXbYT"
      },
      "source": [
        "## Preprocess\n",
        "For this project, I won't use text data as input to the model. Instead, I'll convert the text into sequences of integers using the following preprocess methods:\n",
        "1. Tokenize the words into ids\n",
        "2. Add padding to make all the sequences the same length.\n",
        "\n",
        "\n",
        "### Tokenization\n",
        "For a neural network to predict text data, it first has to be turned into data that, it can understand. \n",
        "\n",
        "Text data like \"dog\" is a sequence of ASCII character encodings.  Since a neural network is a series of multiplication and addition operations, the input data needs to be **number(s).**\n",
        "\n",
        "I can turn each character into a number or each word into a number.  These are called character and word ids, respectively.  Character ids are used for character level models that generate text predictions for each character.  \n",
        "\n",
        "A word level model uses word ids that generate text predictions for each word.  Word level models tend to learn better, since they are lower in complexity, so I'll use those.\n",
        "\n",
        "I will turn each sentence into a sequence of words ids using Keras's `Tokenizer` function. I will use this function to tokenize `english_sentences` and `french_sentences` in the cell below.\n"
      ]
    },
    {
      "cell_type": "markdown",
      "source": [],
      "metadata": {
        "id": "jx8pBHMx7Izg"
      }
    },
    {
      "cell_type": "code",
      "execution_count": null,
      "metadata": {
        "colab": {
          "base_uri": "https://localhost:8080/"
        },
        "id": "3gDUqtWYXbYU",
        "outputId": "2adc51a6-bd07-4265-fb07-c106f6504e08"
      },
      "outputs": [
        {
          "output_type": "stream",
          "name": "stdout",
          "text": [
            "{'the': 1, 'quick': 2, 'a': 3, 'brown': 4, 'fox': 5, 'jumps': 6, 'over': 7, 'lazy': 8, 'dog': 9, 'by': 10, 'jove': 11, 'my': 12, 'study': 13, 'of': 14, 'lexicography': 15, 'won': 16, 'prize': 17, 'this': 18, 'is': 19, 'short': 20, 'sentence': 21}\n",
            "\n",
            "Sequence 1 in x\n",
            "  Input:  The quick brown fox jumps over the lazy dog .\n",
            "  Output: [1, 2, 4, 5, 6, 7, 1, 8, 9]\n",
            "Sequence 2 in x\n",
            "  Input:  By Jove , my quick study of lexicography won a prize .\n",
            "  Output: [10, 11, 12, 2, 13, 14, 15, 16, 3, 17]\n",
            "Sequence 3 in x\n",
            "  Input:  This is a short sentence .\n",
            "  Output: [18, 19, 3, 20, 21]\n"
          ]
        }
      ],
      "source": [
        "def tokenize(x):\n",
        "    \"\"\"\n",
        "    Tokenize x\n",
        "    :param x: List of sentences/strings to be tokenized\n",
        "    :return: Tuple of (tokenized x data, tokenizer used to tokenize x)\n",
        "    \"\"\"\n",
        "    x_tk = Tokenizer(char_level = False)\n",
        "    x_tk.fit_on_texts(x)\n",
        "    return x_tk.texts_to_sequences(x), x_tk\n",
        "\n",
        "# Tokenize Example output\n",
        "text_sentences = [\n",
        "    'The quick brown fox jumps over the lazy dog .',\n",
        "    'By Jove , my quick study of lexicography won a prize .',\n",
        "    'This is a short sentence .']\n",
        "text_tokenized, text_tokenizer = tokenize(text_sentences)\n",
        "print(text_tokenizer.word_index)\n",
        "print()\n",
        "for sample_i, (sent, token_sent) in enumerate(zip(text_sentences, text_tokenized)):\n",
        "    print('Sequence {} in x'.format(sample_i + 1))\n",
        "    print('  Input:  {}'.format(sent))\n",
        "    print('  Output: {}'.format(token_sent))"
      ]
    },
    {
      "cell_type": "markdown",
      "metadata": {
        "id": "A9N_rdWJXbYV"
      },
      "source": [
        "### Padding \n",
        "When batching the sequence of word ids together, each sequence needs to be the same length.  Since sentences are dynamic in length, I can add padding to the end of the sequences to make them the same length.\n",
        "\n",
        "I make sure all the English sequences have the same length and all the French sequences have the same length by adding padding to the **end** of each sequence using Keras's `pad_sequences` function."
      ]
    },
    {
      "cell_type": "code",
      "execution_count": null,
      "metadata": {
        "colab": {
          "base_uri": "https://localhost:8080/"
        },
        "id": "YPFPrBAyXbYV",
        "outputId": "51bd5208-936d-4f8e-c868-3d0b2a23e1d0"
      },
      "outputs": [
        {
          "output_type": "stream",
          "name": "stdout",
          "text": [
            "Sequence 1 in x\n",
            "  Input:  [1 2 4 5 6 7 1 8 9]\n",
            "  Output: [1 2 4 5 6 7 1 8 9 0]\n",
            "Sequence 2 in x\n",
            "  Input:  [10 11 12  2 13 14 15 16  3 17]\n",
            "  Output: [10 11 12  2 13 14 15 16  3 17]\n",
            "Sequence 3 in x\n",
            "  Input:  [18 19  3 20 21]\n",
            "  Output: [18 19  3 20 21  0  0  0  0  0]\n"
          ]
        }
      ],
      "source": [
        "def pad(x, length=None):\n",
        "    \"\"\"\n",
        "    Pad x\n",
        "    :param x: List of sequences.\n",
        "    :param length: Length to pad the sequence to.  If None, use length of longest sequence in x.\n",
        "    :return: Padded numpy array of sequences\n",
        "    \"\"\"\n",
        "    if length is None:\n",
        "        length = max([len(sentence) for sentence in x])\n",
        "    return pad_sequences(x, maxlen = length, padding = 'post')\n",
        "\n",
        "\n",
        "# Pad Tokenized output\n",
        "test_pad = pad(text_tokenized)\n",
        "for sample_i, (token_sent, pad_sent) in enumerate(zip(text_tokenized, test_pad)):\n",
        "    print('Sequence {} in x'.format(sample_i + 1))\n",
        "    print('  Input:  {}'.format(np.array(token_sent)))\n",
        "    print('  Output: {}'.format(pad_sent))"
      ]
    },
    {
      "cell_type": "markdown",
      "metadata": {
        "id": "UYqBdlGwXbYW"
      },
      "source": [
        "### Preprocess Pipeline\n"
      ]
    },
    {
      "cell_type": "code",
      "execution_count": null,
      "metadata": {
        "colab": {
          "base_uri": "https://localhost:8080/"
        },
        "id": "F5NEgS5yXbYW",
        "outputId": "3474c442-336b-4dee-9136-4a0453d64a95"
      },
      "outputs": [
        {
          "output_type": "stream",
          "name": "stdout",
          "text": [
            "Data Preprocessed\n",
            "Max English sentence length: 15\n",
            "Max French sentence length: 21\n",
            "English vocabulary size: 199\n",
            "French vocabulary size: 344\n"
          ]
        }
      ],
      "source": [
        "def preprocess(x, y):\n",
        "    \"\"\"\n",
        "    Preprocess x and y\n",
        "    :param x: Feature List of sentences\n",
        "    :param y: Label List of sentences\n",
        "    :return: Tuple of (Preprocessed x, Preprocessed y, x tokenizer, y tokenizer)\n",
        "    \"\"\"\n",
        "    preprocess_x, x_tk = tokenize(x)\n",
        "    preprocess_y, y_tk = tokenize(y)\n",
        "\n",
        "    preprocess_x = pad(preprocess_x)\n",
        "    preprocess_y = pad(preprocess_y)\n",
        "\n",
        "    # Keras's sparse_categorical_crossentropy function requires the labels to be in 3 dimensions\n",
        "    preprocess_y = preprocess_y.reshape(*preprocess_y.shape, 1)\n",
        "\n",
        "    return preprocess_x, preprocess_y, x_tk, y_tk\n",
        "\n",
        "preproc_english_sentences, preproc_french_sentences, english_tokenizer, french_tokenizer =\\\n",
        "    preprocess(english_sentences, french_sentences)\n",
        "    \n",
        "max_english_sequence_length = preproc_english_sentences.shape[1]\n",
        "max_french_sequence_length = preproc_french_sentences.shape[1]\n",
        "english_vocab_size = len(english_tokenizer.word_index)\n",
        "french_vocab_size = len(french_tokenizer.word_index)\n",
        "\n",
        "print('Data Preprocessed')\n",
        "print(\"Max English sentence length:\", max_english_sequence_length)\n",
        "print(\"Max French sentence length:\", max_french_sequence_length)\n",
        "print(\"English vocabulary size:\", english_vocab_size)\n",
        "print(\"French vocabulary size:\", french_vocab_size)"
      ]
    },
    {
      "cell_type": "markdown",
      "metadata": {
        "id": "leK-eSFVXbYW"
      },
      "source": [
        "## Models\n"
      ]
    },
    {
      "cell_type": "markdown",
      "source": [
        "### Ids Back to Text\n",
        "The neural network will be translating the input to words ids, which isn't the final form I want.  I want the French translation.  The function `logits_to_text` will bridge the gab between the logits from the neural network to the French translation.  I'll be using this function to better understand the output of the neural network."
      ],
      "metadata": {
        "id": "CtadelXRgHKK"
      }
    },
    {
      "cell_type": "code",
      "execution_count": null,
      "metadata": {
        "colab": {
          "base_uri": "https://localhost:8080/"
        },
        "id": "yFnN_GHMXbYW",
        "outputId": "44fa7a17-ba38-44da-86be-0db5c562ab8a"
      },
      "outputs": [
        {
          "output_type": "stream",
          "name": "stdout",
          "text": [
            "`logits_to_text` function loaded.\n"
          ]
        }
      ],
      "source": [
        "def logits_to_text(logits, tokenizer):\n",
        "    \"\"\"\n",
        "    Turn logits from a neural network into text using the tokenizer\n",
        "    :param logits: Logits from a neural network\n",
        "    :param tokenizer: Keras Tokenizer fit on the labels\n",
        "    :return: String that represents the text of the logits\n",
        "    \"\"\"\n",
        "    index_to_words = {id: word for word, id in tokenizer.word_index.items()}\n",
        "    index_to_words[0] = '<PAD>'\n",
        "\n",
        "    return ' '.join([index_to_words[prediction] for prediction in np.argmax(logits, 1)])\n",
        "\n",
        "print('`logits_to_text` function loaded.')"
      ]
    },
    {
      "cell_type": "markdown",
      "metadata": {
        "id": "Z4qJ5QOiXbYb"
      },
      "source": [
        "### Model implemenation\n"
      ]
    },
    {
      "cell_type": "code",
      "source": [
        "from keras.metrics import SparseCategoricalAccuracy\n",
        "\n",
        "def model_final(input_shape, output_sequence_length, english_vocab_size, french_vocab_size):\n",
        "    \"\"\"\n",
        "    Build and train a model that incorporates embedding, encoder-decoder, and bidirectional RNN on x and y\n",
        "    :param input_shape: Tuple of input shape\n",
        "    :param output_sequence_length: Length of output sequence\n",
        "    :param english_vocab_size: Number of unique English words in the dataset\n",
        "    :param french_vocab_size: Number of unique French words in the dataset\n",
        "    :return: Keras model built, but not trained\n",
        "    \"\"\"\n",
        "\n",
        "    model = Sequential()\n",
        "    model.add(Embedding(input_dim=english_vocab_size,output_dim=128,input_length=input_shape[1]))\n",
        "    model.add(Bidirectional(GRU(256,return_sequences=False)))\n",
        "    model.add(RepeatVector(output_sequence_length))\n",
        "    model.add(Bidirectional(GRU(256,return_sequences=True)))\n",
        "    model.add(TimeDistributed(Dense(french_vocab_size,activation='softmax')))\n",
        "    learning_rate = 0.005\n",
        "    \n",
        "    model.compile(loss = sparse_categorical_crossentropy, \n",
        "                 optimizer = Adam(learning_rate), \n",
        "                 metrics = [SparseCategoricalAccuracy()])\n",
        "    \n",
        "    return model\n",
        "\n",
        "print('Model Loaded')\n"
      ],
      "metadata": {
        "colab": {
          "base_uri": "https://localhost:8080/"
        },
        "id": "rrVfytnpi8uK",
        "outputId": "d400144c-88d1-453d-873b-1c13d825f54d"
      },
      "execution_count": null,
      "outputs": [
        {
          "output_type": "stream",
          "name": "stdout",
          "text": [
            "Model Loaded\n"
          ]
        }
      ]
    },
    {
      "cell_type": "code",
      "source": [
        "#Define the model\n",
        "tmp_X = pad(preproc_english_sentences)\n",
        "model = model_final(tmp_X.shape,\n",
        "                    preproc_french_sentences.shape[1],\n",
        "                    len(english_tokenizer.word_index)+1,\n",
        "                    len(french_tokenizer.word_index)+1)"
      ],
      "metadata": {
        "id": "afU58cccoUGS"
      },
      "execution_count": null,
      "outputs": []
    },
    {
      "cell_type": "code",
      "source": [
        "# Visualize the model\n",
        "keras.utils.plot_model(model, \"model_with_shape_info.png\", show_shapes=True)"
      ],
      "metadata": {
        "colab": {
          "base_uri": "https://localhost:8080/",
          "height": 644
        },
        "id": "oF5Me5JRpCXk",
        "outputId": "011a6666-5a7f-4562-df15-c995c496bca1"
      },
      "execution_count": null,
      "outputs": [
        {
          "output_type": "execute_result",
          "data": {
            "image/png": "[encoded data removed]",
            "text/plain": [
              "<IPython.core.display.Image object>"
            ]
          },
          "metadata": {},
          "execution_count": 15
        }
      ]
    },
    {
      "cell_type": "markdown",
      "metadata": {
        "id": "9EO7j_tzXbYb"
      },
      "source": [
        "### Train the model "
      ]
    },
    {
      "cell_type": "code",
      "source": [
        "hist = model.fit(tmp_X, preproc_french_sentences, batch_size = 1024, epochs = 15, validation_split = 0.2)"
      ],
      "metadata": {
        "colab": {
          "base_uri": "https://localhost:8080/"
        },
        "id": "O6zp3CgPpgcC",
        "outputId": "665a3545-9519-4acf-91d3-e42067b9e1cb"
      },
      "execution_count": null,
      "outputs": [
        {
          "output_type": "stream",
          "name": "stdout",
          "text": [
            "Epoch 1/15\n",
            "108/108 [==============================] - 22s 102ms/step - loss: 2.0944 - sparse_categorical_accuracy: 0.5299 - val_loss: 1.3103 - val_sparse_categorical_accuracy: 0.6498\n",
            "Epoch 2/15\n",
            "108/108 [==============================] - 10s 96ms/step - loss: 1.0152 - sparse_categorical_accuracy: 0.7146 - val_loss: 0.7560 - val_sparse_categorical_accuracy: 0.7775\n",
            "Epoch 3/15\n",
            "108/108 [==============================] - 10s 92ms/step - loss: 0.5791 - sparse_categorical_accuracy: 0.8261 - val_loss: 0.3988 - val_sparse_categorical_accuracy: 0.8811\n",
            "Epoch 4/15\n",
            "108/108 [==============================] - 10s 92ms/step - loss: 0.3182 - sparse_categorical_accuracy: 0.9045 - val_loss: 0.2406 - val_sparse_categorical_accuracy: 0.9283\n",
            "Epoch 5/15\n",
            "108/108 [==============================] - 10s 95ms/step - loss: 0.1941 - sparse_categorical_accuracy: 0.9420 - val_loss: 0.2004 - val_sparse_categorical_accuracy: 0.9393\n",
            "Epoch 6/15\n",
            "108/108 [==============================] - 10s 95ms/step - loss: 0.1954 - sparse_categorical_accuracy: 0.9414 - val_loss: 0.1709 - val_sparse_categorical_accuracy: 0.9495\n",
            "Epoch 7/15\n",
            "108/108 [==============================] - 10s 94ms/step - loss: 0.1648 - sparse_categorical_accuracy: 0.9500 - val_loss: 0.2288 - val_sparse_categorical_accuracy: 0.9298\n",
            "Epoch 8/15\n",
            "108/108 [==============================] - 10s 95ms/step - loss: 0.1317 - sparse_categorical_accuracy: 0.9598 - val_loss: 0.1113 - val_sparse_categorical_accuracy: 0.9666\n",
            "Epoch 9/15\n",
            "108/108 [==============================] - 10s 97ms/step - loss: 0.0866 - sparse_categorical_accuracy: 0.9738 - val_loss: 0.0990 - val_sparse_categorical_accuracy: 0.9702\n",
            "Epoch 10/15\n",
            "108/108 [==============================] - 10s 96ms/step - loss: 0.0725 - sparse_categorical_accuracy: 0.9781 - val_loss: 0.0963 - val_sparse_categorical_accuracy: 0.9711\n",
            "Epoch 11/15\n",
            "108/108 [==============================] - 10s 97ms/step - loss: 0.0698 - sparse_categorical_accuracy: 0.9790 - val_loss: 0.0836 - val_sparse_categorical_accuracy: 0.9756\n",
            "Epoch 12/15\n",
            "108/108 [==============================] - 10s 97ms/step - loss: 0.0577 - sparse_categorical_accuracy: 0.9827 - val_loss: 0.0850 - val_sparse_categorical_accuracy: 0.9754\n",
            "Epoch 13/15\n",
            "108/108 [==============================] - 11s 98ms/step - loss: 0.0501 - sparse_categorical_accuracy: 0.9849 - val_loss: 0.0771 - val_sparse_categorical_accuracy: 0.9779\n",
            "Epoch 14/15\n",
            "108/108 [==============================] - 11s 98ms/step - loss: 0.0481 - sparse_categorical_accuracy: 0.9856 - val_loss: 0.0778 - val_sparse_categorical_accuracy: 0.9777\n",
            "Epoch 15/15\n",
            "108/108 [==============================] - 10s 97ms/step - loss: 0.0495 - sparse_categorical_accuracy: 0.9853 - val_loss: 0.1115 - val_sparse_categorical_accuracy: 0.9689\n"
          ]
        }
      ]
    },
    {
      "cell_type": "markdown",
      "source": [
        "### Evaluate the model"
      ],
      "metadata": {
        "id": "gSbV0WM4p0G_"
      }
    },
    {
      "cell_type": "code",
      "source": [
        "def final_predictions(x, y, x_tk, y_tk):\n",
        "    \"\"\"\n",
        "    Gets predictions using the model\n",
        "    :param x: Preprocessed English data\n",
        "    :param y: Preprocessed French data\n",
        "    :param x_tk: English tokenizer\n",
        "    :param y_tk: French tokenizer\n",
        "    \"\"\"\n",
        "    y_id_to_word = {value: key for key, value in y_tk.word_index.items()}\n",
        "    y_id_to_word[0] = '<PAD>'\n",
        "\n",
        "    sentence = 'he saw a old yellow truck'\n",
        "    sentence = [x_tk.word_index[word] for word in sentence.split()]\n",
        "    sentence = pad_sequences([sentence], maxlen=x.shape[-1], padding='post')\n",
        "    sentences = np.array([sentence[0], x[0]])\n",
        "    predictions = model.predict(sentences, len(sentences))\n",
        "\n",
        "    print('Sample 1:')\n",
        "    print(' '.join([y_id_to_word[np.argmax(x)] for x in predictions[0]]))\n",
        "    print('Il a vu un vieux camion jaune')\n",
        "    print('Sample 2:')\n",
        "    print(' '.join([y_id_to_word[np.argmax(x)] for x in predictions[1]]))\n",
        "    print(' '.join([y_id_to_word[np.max(x)] for x in y[0]]))\n",
        "\n",
        "\n",
        "final_predictions(preproc_english_sentences, preproc_french_sentences, english_tokenizer, french_tokenizer)"
      ],
      "metadata": {
        "colab": {
          "base_uri": "https://localhost:8080/"
        },
        "id": "jv9m7suIjKr5",
        "outputId": "f21cc72e-f340-4b72-ea99-2ea12acd4fd4"
      },
      "execution_count": null,
      "outputs": [
        {
          "output_type": "stream",
          "name": "stdout",
          "text": [
            "1/1 [==============================] - 1s 1s/step\n",
            "Sample 1:\n",
            "il a vu un vieux camion jaune <PAD> <PAD> <PAD> <PAD> <PAD> <PAD> <PAD> <PAD> <PAD> <PAD> <PAD> <PAD> <PAD> <PAD>\n",
            "Il a vu un vieux camion jaune\n",
            "Sample 2:\n",
            "new jersey est parfois calme pendant l' automne il il est neigeux en avril <PAD> <PAD> <PAD> <PAD> <PAD> <PAD> <PAD>\n",
            "new jersey est parfois calme pendant l' automne et il est neigeux en avril <PAD> <PAD> <PAD> <PAD> <PAD> <PAD> <PAD>\n"
          ]
        }
      ]
    },
    {
      "cell_type": "code",
      "source": [],
      "metadata": {
        "id": "kWdM-P0ZuetJ"
      },
      "execution_count": null,
      "outputs": []
    }
  ],
  "metadata": {
    "kernelspec": {
      "display_name": "Python 3",
      "language": "python",
      "name": "python3"
    },
    "language_info": {
      "codemirror_mode": {
        "name": "ipython",
        "version": 3
      },
      "file_extension": ".py",
      "mimetype": "text/x-python",
      "name": "python",
      "nbconvert_exporter": "python",
      "pygments_lexer": "ipython3",
      "version": "3.6.3"
    },
    "colab": {
      "provenance": [],
      "include_colab_link": true
    },
    "accelerator": "GPU",
    "gpuClass": "standard"
  },
  "nbformat": 4,
  "nbformat_minor": 0
}